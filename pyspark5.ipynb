{
  "nbformat": 4,
  "nbformat_minor": 0,
  "metadata": {
    "colab": {
      "provenance": []
    },
    "kernelspec": {
      "name": "python3",
      "display_name": "Python 3"
    },
    "language_info": {
      "name": "python"
    }
  },
  "cells": [
    {
      "cell_type": "code",
      "execution_count": 1,
      "metadata": {
        "id": "b3ICfTIhY3CI"
      },
      "outputs": [],
      "source": [
        "from pyspark.sql import SparkSession"
      ]
    },
    {
      "cell_type": "code",
      "source": [
        "spark=SparkSession.builder.appName('Practice').getOrCreate()"
      ],
      "metadata": {
        "id": "XMjtqEdyY3u3"
      },
      "execution_count": 2,
      "outputs": []
    },
    {
      "cell_type": "code",
      "source": [
        "df_pyspark=spark.read.csv('test4.csv',header=True,inferSchema=True)"
      ],
      "metadata": {
        "id": "8u87grjDY8OH"
      },
      "execution_count": 4,
      "outputs": []
    },
    {
      "cell_type": "code",
      "source": [
        "df_pyspark.show()"
      ],
      "metadata": {
        "colab": {
          "base_uri": "https://localhost:8080/"
        },
        "id": "wque7lZ7Y_qn",
        "outputId": "4fc5cc1f-52d1-4e56-9acc-b9a1e19e632a"
      },
      "execution_count": 5,
      "outputs": [
        {
          "output_type": "stream",
          "name": "stdout",
          "text": [
            "+--------+----+---+------+\n",
            "|    Name|age |exp|salary|\n",
            "+--------+----+---+------+\n",
            "| Krishna|  31| 10| 30000|\n",
            "|sudhashu|  30|  8| 25000|\n",
            "|   sunny|  29|  4| 20000|\n",
            "|    paul|  24|  3| 20000|\n",
            "|  harsha|  21|  1| 15000|\n",
            "| shubham|  23|  2| 18000|\n",
            "+--------+----+---+------+\n",
            "\n"
          ]
        }
      ]
    },
    {
      "cell_type": "code",
      "source": [
        "df_pyspark.printSchema()"
      ],
      "metadata": {
        "colab": {
          "base_uri": "https://localhost:8080/"
        },
        "id": "jgcboyzmZJXW",
        "outputId": "c5f2f505-fc93-4291-8b82-af29fa1e51e0"
      },
      "execution_count": 7,
      "outputs": [
        {
          "output_type": "stream",
          "name": "stdout",
          "text": [
            "root\n",
            " |-- Name: string (nullable = true)\n",
            " |-- age : integer (nullable = true)\n",
            " |-- exp: integer (nullable = true)\n",
            " |-- salary: integer (nullable = true)\n",
            "\n"
          ]
        }
      ]
    },
    {
      "cell_type": "code",
      "source": [
        "df_pyspark.columns"
      ],
      "metadata": {
        "colab": {
          "base_uri": "https://localhost:8080/"
        },
        "id": "yBc-El5UaZBa",
        "outputId": "e811b71b-3d10-4cb2-8e40-6f93a28acd5d"
      },
      "execution_count": 8,
      "outputs": [
        {
          "output_type": "execute_result",
          "data": {
            "text/plain": [
              "['Name', 'age ', 'exp', 'salary']"
            ]
          },
          "metadata": {},
          "execution_count": 8
        }
      ]
    },
    {
      "cell_type": "code",
      "source": [
        "## [Age,Experience]-->new featur-->indepent feature"
      ],
      "metadata": {
        "id": "bIE5fgZKagLD"
      },
      "execution_count": null,
      "outputs": []
    },
    {
      "cell_type": "code",
      "source": [
        "from pyspark.ml.feature import VectorAssembler\n",
        "featureassembler=VectorAssembler(inputCols=['age','exp'],outputCol=\"independent features\")"
      ],
      "metadata": {
        "id": "ACl3ShaHnCqh"
      },
      "execution_count": 14,
      "outputs": []
    },
    {
      "cell_type": "code",
      "source": [
        "from pyspark.ml.feature import VectorAssembler\n",
        "# Use the correct column names including the leading space for 'age '\n",
        "featureassembler=VectorAssembler(inputCols=['age ', 'exp'],outputCol=\"independent features\")\n",
        "output=featureassembler.transform(df_pyspark)"
      ],
      "metadata": {
        "id": "ns2gCdp1nfXl"
      },
      "execution_count": 16,
      "outputs": []
    },
    {
      "cell_type": "code",
      "source": [
        "output.show()"
      ],
      "metadata": {
        "colab": {
          "base_uri": "https://localhost:8080/"
        },
        "id": "krnTcfa9oYC6",
        "outputId": "616a2554-e22e-4e20-8bff-6a71a945bcbd"
      },
      "execution_count": 17,
      "outputs": [
        {
          "output_type": "stream",
          "name": "stdout",
          "text": [
            "+--------+----+---+------+--------------------+\n",
            "|    Name|age |exp|salary|independent features|\n",
            "+--------+----+---+------+--------------------+\n",
            "| Krishna|  31| 10| 30000|         [31.0,10.0]|\n",
            "|sudhashu|  30|  8| 25000|          [30.0,8.0]|\n",
            "|   sunny|  29|  4| 20000|          [29.0,4.0]|\n",
            "|    paul|  24|  3| 20000|          [24.0,3.0]|\n",
            "|  harsha|  21|  1| 15000|          [21.0,1.0]|\n",
            "| shubham|  23|  2| 18000|          [23.0,2.0]|\n",
            "+--------+----+---+------+--------------------+\n",
            "\n"
          ]
        }
      ]
    },
    {
      "cell_type": "code",
      "source": [
        "output.columns"
      ],
      "metadata": {
        "colab": {
          "base_uri": "https://localhost:8080/"
        },
        "id": "4IckmMXEox3i",
        "outputId": "6c5e7cf0-7f5a-4c4e-b697-be88856b0ea8"
      },
      "execution_count": 19,
      "outputs": [
        {
          "output_type": "execute_result",
          "data": {
            "text/plain": [
              "['Name', 'age ', 'exp', 'salary', 'independent features']"
            ]
          },
          "metadata": {},
          "execution_count": 19
        }
      ]
    },
    {
      "cell_type": "code",
      "source": [
        "finalised_data=output.select('independent features','salary')"
      ],
      "metadata": {
        "id": "HmR1E8mFo7Q4"
      },
      "execution_count": 20,
      "outputs": []
    },
    {
      "cell_type": "code",
      "source": [
        "finalised_data.show()"
      ],
      "metadata": {
        "colab": {
          "base_uri": "https://localhost:8080/"
        },
        "id": "QSsd5pFkpC2b",
        "outputId": "046a21e2-5e07-4e1c-97dc-005512528834"
      },
      "execution_count": 21,
      "outputs": [
        {
          "output_type": "stream",
          "name": "stdout",
          "text": [
            "+--------------------+------+\n",
            "|independent features|salary|\n",
            "+--------------------+------+\n",
            "|         [31.0,10.0]| 30000|\n",
            "|          [30.0,8.0]| 25000|\n",
            "|          [29.0,4.0]| 20000|\n",
            "|          [24.0,3.0]| 20000|\n",
            "|          [21.0,1.0]| 15000|\n",
            "|          [23.0,2.0]| 18000|\n",
            "+--------------------+------+\n",
            "\n"
          ]
        }
      ]
    },
    {
      "cell_type": "code",
      "source": [
        "from pyspark.ml.regression import LinearRegression\n",
        "#train test splita\n",
        "train_data,test_data=finalised_data.randomSplit([0.75,0.25])\n",
        "regressor=LinearRegression(featuresCol='independent features',labelCol='salary')\n",
        "regressor=regressor.fit(train_data)\n"
      ],
      "metadata": {
        "id": "ZWhZun6HpFOG"
      },
      "execution_count": 22,
      "outputs": []
    },
    {
      "cell_type": "code",
      "source": [
        "regressor.coefficients"
      ],
      "metadata": {
        "colab": {
          "base_uri": "https://localhost:8080/"
        },
        "id": "NXYJl7fppozq",
        "outputId": "da235243-af47-45c1-c870-07a02deeb9bc"
      },
      "execution_count": 23,
      "outputs": [
        {
          "output_type": "execute_result",
          "data": {
            "text/plain": [
              "DenseVector([-102.53, 1688.6818])"
            ]
          },
          "metadata": {},
          "execution_count": 23
        }
      ]
    },
    {
      "cell_type": "code",
      "source": [
        "regressor.intercept"
      ],
      "metadata": {
        "colab": {
          "base_uri": "https://localhost:8080/"
        },
        "id": "7Zqdvnd4ptOd",
        "outputId": "3b04a026-d12d-4700-96d4-9ab9e63165ef"
      },
      "execution_count": 24,
      "outputs": [
        {
          "output_type": "execute_result",
          "data": {
            "text/plain": [
              "16470.039946737463"
            ]
          },
          "metadata": {},
          "execution_count": 24
        }
      ]
    },
    {
      "cell_type": "code",
      "source": [
        "pred_res=regressor.evaluate(test_data)"
      ],
      "metadata": {
        "id": "w2d4UEWvpzhh"
      },
      "execution_count": 25,
      "outputs": []
    },
    {
      "cell_type": "code",
      "source": [
        "pred_res.predictions.show()"
      ],
      "metadata": {
        "colab": {
          "base_uri": "https://localhost:8080/"
        },
        "id": "TgGgkESnp3zd",
        "outputId": "8e91b8f1-8913-46f9-f912-bc2d9de6ba0a"
      },
      "execution_count": 26,
      "outputs": [
        {
          "output_type": "stream",
          "name": "stdout",
          "text": [
            "+--------------------+------+------------------+\n",
            "|independent features|salary|        prediction|\n",
            "+--------------------+------+------------------+\n",
            "|          [30.0,8.0]| 25000|26903.595206391477|\n",
            "+--------------------+------+------------------+\n",
            "\n"
          ]
        }
      ]
    },
    {
      "cell_type": "code",
      "source": [
        "pred_res.meanAbsoluteError,pred_res.meanSquaredError"
      ],
      "metadata": {
        "colab": {
          "base_uri": "https://localhost:8080/"
        },
        "id": "EnmpdwH9p6T2",
        "outputId": "b7c5927b-1dea-4d42-9daa-7e2ca6f7531f"
      },
      "execution_count": 27,
      "outputs": [
        {
          "output_type": "execute_result",
          "data": {
            "text/plain": [
              "(1903.5952063914774, 3623674.7097966117)"
            ]
          },
          "metadata": {},
          "execution_count": 27
        }
      ]
    },
    {
      "cell_type": "code",
      "source": [
        "pred_res.predictionCol"
      ],
      "metadata": {
        "colab": {
          "base_uri": "https://localhost:8080/",
          "height": 36
        },
        "id": "9lvHtcDFv2u9",
        "outputId": "d120d945-5106-4a78-b651-e5f0ec2b850f"
      },
      "execution_count": 31,
      "outputs": [
        {
          "output_type": "execute_result",
          "data": {
            "text/plain": [
              "'prediction'"
            ],
            "application/vnd.google.colaboratory.intrinsic+json": {
              "type": "string"
            }
          },
          "metadata": {},
          "execution_count": 31
        }
      ]
    },
    {
      "cell_type": "code",
      "source": [],
      "metadata": {
        "id": "pvXCte0Iw0KT"
      },
      "execution_count": null,
      "outputs": []
    }
  ]
}