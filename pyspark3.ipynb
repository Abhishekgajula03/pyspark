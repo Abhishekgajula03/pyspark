{
  "nbformat": 4,
  "nbformat_minor": 0,
  "metadata": {
    "colab": {
      "provenance": []
    },
    "kernelspec": {
      "name": "python3",
      "display_name": "Python 3"
    },
    "language_info": {
      "name": "python"
    }
  },
  "cells": [
    {
      "cell_type": "code",
      "execution_count": null,
      "metadata": {
        "id": "POPd2YBfy8-M"
      },
      "outputs": [],
      "source": [
        "import pyspark"
      ]
    },
    {
      "cell_type": "code",
      "source": [
        "from pyspark.sql import SparkSession\n",
        "spark=SparkSession.builder.appName('Practice').getOrCreate()"
      ],
      "metadata": {
        "id": "i7ESF4qMzCFj"
      },
      "execution_count": null,
      "outputs": []
    },
    {
      "cell_type": "code",
      "source": [
        "df_pyspark=spark.read.csv('test1.csv',header=True,inferSchema=True)"
      ],
      "metadata": {
        "id": "cvoBMb6XzMeb"
      },
      "execution_count": null,
      "outputs": []
    },
    {
      "cell_type": "code",
      "source": [
        "df_pyspark.show()"
      ],
      "metadata": {
        "colab": {
          "base_uri": "https://localhost:8080/"
        },
        "id": "kc5_uFRT1rQy",
        "outputId": "1013d731-d696-4a6a-cd3f-1a75d58b0bf0"
      },
      "execution_count": null,
      "outputs": [
        {
          "output_type": "stream",
          "name": "stdout",
          "text": [
            "+-------+---+----------+\n",
            "|   Name|Age|experience|\n",
            "+-------+---+----------+\n",
            "|   Abhi| 21|       ias|\n",
            "|   akhi| 25|   manager|\n",
            "|ashitaa| 21|  designer|\n",
            "+-------+---+----------+\n",
            "\n"
          ]
        }
      ]
    },
    {
      "cell_type": "code",
      "source": [
        "df_pyspark.filter(\"Age>=22\").show()"
      ],
      "metadata": {
        "colab": {
          "base_uri": "https://localhost:8080/"
        },
        "id": "E6XWxiGh1wPW",
        "outputId": "c54c85bf-3521-40ee-dd6c-4afe1b17363e"
      },
      "execution_count": null,
      "outputs": [
        {
          "output_type": "stream",
          "name": "stdout",
          "text": [
            "+----+---+----------+\n",
            "|Name|Age|experience|\n",
            "+----+---+----------+\n",
            "|akhi| 25|   manager|\n",
            "+----+---+----------+\n",
            "\n"
          ]
        }
      ]
    },
    {
      "cell_type": "code",
      "source": [
        "df_pyspark.filter(\"Age>=22\").select(['Name','experience']).show()"
      ],
      "metadata": {
        "colab": {
          "base_uri": "https://localhost:8080/"
        },
        "id": "vCO7xJ6D17fQ",
        "outputId": "0a31b853-dd4b-4a8c-f6b5-b1c91d9395bb"
      },
      "execution_count": null,
      "outputs": [
        {
          "output_type": "stream",
          "name": "stdout",
          "text": [
            "+----+----------+\n",
            "|Name|experience|\n",
            "+----+----------+\n",
            "|akhi|   manager|\n",
            "+----+----------+\n",
            "\n"
          ]
        }
      ]
    },
    {
      "cell_type": "code",
      "source": [
        "df_pyspark.filter((df_pyspark['Age']>=22) & (df_pyspark['Age']<=25)).show()"
      ],
      "metadata": {
        "colab": {
          "base_uri": "https://localhost:8080/"
        },
        "id": "5NyqBeRF2NnA",
        "outputId": "f217b0b9-612f-4670-b7b6-d3ca77732c76"
      },
      "execution_count": null,
      "outputs": [
        {
          "output_type": "stream",
          "name": "stdout",
          "text": [
            "+----+---+----------+\n",
            "|Name|Age|experience|\n",
            "+----+---+----------+\n",
            "|akhi| 25|   manager|\n",
            "+----+---+----------+\n",
            "\n"
          ]
        }
      ]
    },
    {
      "cell_type": "code",
      "source": [
        "df_pyspark.filter(~(df_pyspark['Age']>=22)).show()"
      ],
      "metadata": {
        "colab": {
          "base_uri": "https://localhost:8080/"
        },
        "id": "aURkAMCy2mRj",
        "outputId": "1a00d6c7-eb0f-49b7-af97-7b78fce65b1a"
      },
      "execution_count": null,
      "outputs": [
        {
          "output_type": "stream",
          "name": "stdout",
          "text": [
            "+-------+---+----------+\n",
            "|   Name|Age|experience|\n",
            "+-------+---+----------+\n",
            "|   Abhi| 21|       ias|\n",
            "|ashitaa| 21|  designer|\n",
            "+-------+---+----------+\n",
            "\n"
          ]
        }
      ]
    },
    {
      "cell_type": "code",
      "source": [],
      "metadata": {
        "id": "N70qT-Js3AVA"
      },
      "execution_count": null,
      "outputs": []
    }
  ]
}