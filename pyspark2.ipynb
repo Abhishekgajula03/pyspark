{
  "nbformat": 4,
  "nbformat_minor": 0,
  "metadata": {
    "colab": {
      "provenance": []
    },
    "kernelspec": {
      "name": "python3",
      "display_name": "Python 3"
    },
    "language_info": {
      "name": "python"
    }
  },
  "cells": [
    {
      "cell_type": "code",
      "execution_count": null,
      "metadata": {
        "id": "ItirsSRQIjks"
      },
      "outputs": [],
      "source": [
        "###DROPPIMG COLUMNS\n",
        "#DROPPING ROWS\n",
        "#VARIOUS PARAMETERS\n",
        "#HANDLING MISSING VALUES BY MEANS,MEDIAN MODE"
      ]
    },
    {
      "cell_type": "code",
      "source": [
        "from pyspark.sql import SparkSession"
      ],
      "metadata": {
        "id": "PT7xqNwDI6WW"
      },
      "execution_count": 15,
      "outputs": []
    },
    {
      "cell_type": "code",
      "source": [
        "spark=SparkSession.builder.appName('Practice').getOrCreate()"
      ],
      "metadata": {
        "id": "eoqxxBHSJ_4w"
      },
      "execution_count": 16,
      "outputs": []
    },
    {
      "cell_type": "code",
      "source": [
        "df_pyspark=spark.read.csv('test2.csv',header=True,inferSchema=True)"
      ],
      "metadata": {
        "id": "wStmNdUyKKVs"
      },
      "execution_count": 17,
      "outputs": []
    },
    {
      "cell_type": "code",
      "source": [
        "df_pyspark.show()"
      ],
      "metadata": {
        "colab": {
          "base_uri": "https://localhost:8080/"
        },
        "id": "pJhFDeq5N5VP",
        "outputId": "95c5c924-5320-4980-bf0d-1cc86264c6ec"
      },
      "execution_count": 18,
      "outputs": [
        {
          "output_type": "stream",
          "name": "stdout",
          "text": [
            "+------+----+----------+------+\n",
            "|  Name| age|experience|salary|\n",
            "+------+----+----------+------+\n",
            "| Krish|  31|        10| 30000|\n",
            "|    su|  30|         8| 25000|\n",
            "| sunny|  29|         4| 20000|\n",
            "|  paul|  24|         3| 15000|\n",
            "|harsha|  21|         1| 20000|\n",
            "| shubh|  23|         2| 18000|\n",
            "|mahesh|NULL|      NULL| 40000|\n",
            "|  NULL|  34|        10| 38000|\n",
            "|  NULL|  36|      NULL|  NULL|\n",
            "+------+----+----------+------+\n",
            "\n"
          ]
        }
      ]
    },
    {
      "cell_type": "code",
      "source": [
        "#DROP COLUMN\n",
        "df_pyspark.drop('Name').show()"
      ],
      "metadata": {
        "colab": {
          "base_uri": "https://localhost:8080/"
        },
        "id": "zrmFO8jSOAmH",
        "outputId": "fdb69b68-5217-4a75-da13-98f626ab1531"
      },
      "execution_count": 19,
      "outputs": [
        {
          "output_type": "stream",
          "name": "stdout",
          "text": [
            "+----+----------+------+\n",
            "| age|experience|salary|\n",
            "+----+----------+------+\n",
            "|  31|        10| 30000|\n",
            "|  30|         8| 25000|\n",
            "|  29|         4| 20000|\n",
            "|  24|         3| 15000|\n",
            "|  21|         1| 20000|\n",
            "|  23|         2| 18000|\n",
            "|NULL|      NULL| 40000|\n",
            "|  34|        10| 38000|\n",
            "|  36|      NULL|  NULL|\n",
            "+----+----------+------+\n",
            "\n"
          ]
        }
      ]
    },
    {
      "cell_type": "code",
      "source": [
        "df_pyspark.na.drop().show()#drop all the rows where null values are present"
      ],
      "metadata": {
        "colab": {
          "base_uri": "https://localhost:8080/"
        },
        "id": "twO4LOXtOqgr",
        "outputId": "f425e14e-183e-4dd4-db6d-48b7eafacdcf"
      },
      "execution_count": 20,
      "outputs": [
        {
          "output_type": "stream",
          "name": "stdout",
          "text": [
            "+------+---+----------+------+\n",
            "|  Name|age|experience|salary|\n",
            "+------+---+----------+------+\n",
            "| Krish| 31|        10| 30000|\n",
            "|    su| 30|         8| 25000|\n",
            "| sunny| 29|         4| 20000|\n",
            "|  paul| 24|         3| 15000|\n",
            "|harsha| 21|         1| 20000|\n",
            "| shubh| 23|         2| 18000|\n",
            "+------+---+----------+------+\n",
            "\n"
          ]
        }
      ]
    },
    {
      "cell_type": "code",
      "source": [
        "df_pyspark.na.drop(how='any').show()#drop all the rows where null values are present"
      ],
      "metadata": {
        "colab": {
          "base_uri": "https://localhost:8080/"
        },
        "id": "QrVpyUfOO_Iy",
        "outputId": "4d43076b-2453-4c6f-98da-017d8d7db7b6"
      },
      "execution_count": 21,
      "outputs": [
        {
          "output_type": "stream",
          "name": "stdout",
          "text": [
            "+------+---+----------+------+\n",
            "|  Name|age|experience|salary|\n",
            "+------+---+----------+------+\n",
            "| Krish| 31|        10| 30000|\n",
            "|    su| 30|         8| 25000|\n",
            "| sunny| 29|         4| 20000|\n",
            "|  paul| 24|         3| 15000|\n",
            "|harsha| 21|         1| 20000|\n",
            "| shubh| 23|         2| 18000|\n",
            "+------+---+----------+------+\n",
            "\n"
          ]
        }
      ]
    },
    {
      "cell_type": "code",
      "source": [
        "df_pyspark.na.drop(how='all').show()#drop all the rows where null values are present"
      ],
      "metadata": {
        "colab": {
          "base_uri": "https://localhost:8080/"
        },
        "id": "2i-9pMDdPlJ-",
        "outputId": "08eca7c6-a6c8-413d-e240-0a57a377dc48"
      },
      "execution_count": 22,
      "outputs": [
        {
          "output_type": "stream",
          "name": "stdout",
          "text": [
            "+------+----+----------+------+\n",
            "|  Name| age|experience|salary|\n",
            "+------+----+----------+------+\n",
            "| Krish|  31|        10| 30000|\n",
            "|    su|  30|         8| 25000|\n",
            "| sunny|  29|         4| 20000|\n",
            "|  paul|  24|         3| 15000|\n",
            "|harsha|  21|         1| 20000|\n",
            "| shubh|  23|         2| 18000|\n",
            "|mahesh|NULL|      NULL| 40000|\n",
            "|  NULL|  34|        10| 38000|\n",
            "|  NULL|  36|      NULL|  NULL|\n",
            "+------+----+----------+------+\n",
            "\n"
          ]
        }
      ]
    },
    {
      "cell_type": "code",
      "source": [
        "df_pyspark.na.drop(how='any',thresh=2).show()#aleast 2 non null values should be present"
      ],
      "metadata": {
        "colab": {
          "base_uri": "https://localhost:8080/"
        },
        "id": "Un_Z8_XsPq7i",
        "outputId": "e3d12527-425d-4f5a-cb57-120706735c71"
      },
      "execution_count": 23,
      "outputs": [
        {
          "output_type": "stream",
          "name": "stdout",
          "text": [
            "+------+----+----------+------+\n",
            "|  Name| age|experience|salary|\n",
            "+------+----+----------+------+\n",
            "| Krish|  31|        10| 30000|\n",
            "|    su|  30|         8| 25000|\n",
            "| sunny|  29|         4| 20000|\n",
            "|  paul|  24|         3| 15000|\n",
            "|harsha|  21|         1| 20000|\n",
            "| shubh|  23|         2| 18000|\n",
            "|mahesh|NULL|      NULL| 40000|\n",
            "|  NULL|  34|        10| 38000|\n",
            "+------+----+----------+------+\n",
            "\n"
          ]
        }
      ]
    },
    {
      "cell_type": "code",
      "source": [
        "df_pyspark.na.drop(how='any',subset=['Age']).show()#drop all the rows where null values are present in age column"
      ],
      "metadata": {
        "colab": {
          "base_uri": "https://localhost:8080/"
        },
        "id": "WeA5_nUmUAFv",
        "outputId": "6c273568-b5dd-4f02-fc51-21ae0a5a3405"
      },
      "execution_count": 24,
      "outputs": [
        {
          "output_type": "stream",
          "name": "stdout",
          "text": [
            "+------+---+----------+------+\n",
            "|  Name|age|experience|salary|\n",
            "+------+---+----------+------+\n",
            "| Krish| 31|        10| 30000|\n",
            "|    su| 30|         8| 25000|\n",
            "| sunny| 29|         4| 20000|\n",
            "|  paul| 24|         3| 15000|\n",
            "|harsha| 21|         1| 20000|\n",
            "| shubh| 23|         2| 18000|\n",
            "|  NULL| 34|        10| 38000|\n",
            "|  NULL| 36|      NULL|  NULL|\n",
            "+------+---+----------+------+\n",
            "\n"
          ]
        }
      ]
    },
    {
      "cell_type": "code",
      "source": [
        "df_pyspark.na.fill('Missing Values',['Name','Age']).show()#fill the missing values with missing values"
      ],
      "metadata": {
        "colab": {
          "base_uri": "https://localhost:8080/"
        },
        "id": "7egHBOEfUYXf",
        "outputId": "07b1ef73-d3dd-4106-b66c-bc7fcab27cb7"
      },
      "execution_count": 25,
      "outputs": [
        {
          "output_type": "stream",
          "name": "stdout",
          "text": [
            "+--------------+----+----------+------+\n",
            "|          Name| age|experience|salary|\n",
            "+--------------+----+----------+------+\n",
            "|         Krish|  31|        10| 30000|\n",
            "|            su|  30|         8| 25000|\n",
            "|         sunny|  29|         4| 20000|\n",
            "|          paul|  24|         3| 15000|\n",
            "|        harsha|  21|         1| 20000|\n",
            "|         shubh|  23|         2| 18000|\n",
            "|        mahesh|NULL|      NULL| 40000|\n",
            "|Missing Values|  34|        10| 38000|\n",
            "|Missing Values|  36|      NULL|  NULL|\n",
            "+--------------+----+----------+------+\n",
            "\n"
          ]
        }
      ]
    },
    {
      "cell_type": "code",
      "source": [
        "df_pyspark.na.fill('Missing Values').show()"
      ],
      "metadata": {
        "colab": {
          "base_uri": "https://localhost:8080/"
        },
        "id": "J2sdBkCtUp8y",
        "outputId": "84e2c2e5-3af3-4c21-8faf-4ecadbdfeb0d"
      },
      "execution_count": 26,
      "outputs": [
        {
          "output_type": "stream",
          "name": "stdout",
          "text": [
            "+--------------+----+----------+------+\n",
            "|          Name| age|experience|salary|\n",
            "+--------------+----+----------+------+\n",
            "|         Krish|  31|        10| 30000|\n",
            "|            su|  30|         8| 25000|\n",
            "|         sunny|  29|         4| 20000|\n",
            "|          paul|  24|         3| 15000|\n",
            "|        harsha|  21|         1| 20000|\n",
            "|         shubh|  23|         2| 18000|\n",
            "|        mahesh|NULL|      NULL| 40000|\n",
            "|Missing Values|  34|        10| 38000|\n",
            "|Missing Values|  36|      NULL|  NULL|\n",
            "+--------------+----+----------+------+\n",
            "\n"
          ]
        }
      ]
    },
    {
      "cell_type": "code",
      "source": [
        "#mean\n",
        "from pyspark.ml.feature import Imputer\n",
        "imputer=Imputer(\n",
        "    inputCols=['age','experience','salary'],\n",
        "    outputCols=[\"{}_imputed\".format(c) for c in ['age','experience','salary']]\n",
        ").setStrategy(\"mean\")"
      ],
      "metadata": {
        "id": "BIJSz0ZcWE5u"
      },
      "execution_count": 27,
      "outputs": []
    },
    {
      "cell_type": "code",
      "source": [
        "imputer.fit(df_pyspark).transform(df_pyspark).show()"
      ],
      "metadata": {
        "colab": {
          "base_uri": "https://localhost:8080/"
        },
        "id": "JTo6DBnKWqmJ",
        "outputId": "cfded65c-1164-429a-b6df-4a4a0db83685"
      },
      "execution_count": 28,
      "outputs": [
        {
          "output_type": "stream",
          "name": "stdout",
          "text": [
            "+------+----+----------+------+-----------+------------------+--------------+\n",
            "|  Name| age|experience|salary|age_imputed|experience_imputed|salary_imputed|\n",
            "+------+----+----------+------+-----------+------------------+--------------+\n",
            "| Krish|  31|        10| 30000|         31|                10|         30000|\n",
            "|    su|  30|         8| 25000|         30|                 8|         25000|\n",
            "| sunny|  29|         4| 20000|         29|                 4|         20000|\n",
            "|  paul|  24|         3| 15000|         24|                 3|         15000|\n",
            "|harsha|  21|         1| 20000|         21|                 1|         20000|\n",
            "| shubh|  23|         2| 18000|         23|                 2|         18000|\n",
            "|mahesh|NULL|      NULL| 40000|         28|                 5|         40000|\n",
            "|  NULL|  34|        10| 38000|         34|                10|         38000|\n",
            "|  NULL|  36|      NULL|  NULL|         36|                 5|         25750|\n",
            "+------+----+----------+------+-----------+------------------+--------------+\n",
            "\n"
          ]
        }
      ]
    },
    {
      "cell_type": "code",
      "source": [],
      "metadata": {
        "id": "HFsxTR3iXeDa"
      },
      "execution_count": 28,
      "outputs": []
    }
  ]
}